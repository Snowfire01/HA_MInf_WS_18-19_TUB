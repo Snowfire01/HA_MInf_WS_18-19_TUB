{
 "cells": [
  {
   "cell_type": "code",
   "execution_count": null,
   "metadata": {
    "scrolled": true
   },
   "outputs": [],
   "source": [
    "import math\n",
    "\n",
    "signalPressure = int(input(\"Please enter the signal sound pressure in pascal: \"))\n",
    "noisePressure = int(input(\"Please enter the noise sound pressure in pascal: \"))\n",
    "\n",
    "signalPressureLevel = 20 * math.log10(signalPressure/(2*math.pow(10,-5)))\n",
    "noisePressureLevel = 20 * math.log10(noisePressure/(2*math.pow(10,-5)))\n",
    "\n",
    "signalNoiseRatio = signalPressureLevel-noisePressureLevel\n",
    "\n",
    "# Mit dem Oldenburger Satztest kann man näherungsweise bestimmen, wie viel Rauschen in einem Audiosignal enthalten sein \n",
    "# darf, damit man Sprache noch verstehen kann. Dazu werden Proband*innen mit verschiedenen SNRs konfrontiert und müssen\n",
    "# jeweils angeben, was sie verstanden haben. Sind es mehr als 50% des Satzes, dann gilt der Test als bestanden und der\n",
    "# Anteil des Rauschens wird erhöht. Aus einigen Tests (typischerweise 30-50) lässt sich somit ein Ergebnis mit möglichst\n",
    "# geringer Varianz erzielen, das eine Schwelle für das SNR angibt, ab der der Proband weniger als 50% der Sprache verstehen\n",
    "# kann. Verschiedene Quellen sind sich uneinig, wo genau der Wert für Menschen ohne Hörschädigung liegt, da das schwer\n",
    "# exakt festzustellen ist. Er bewegt sich jedoch vermutlich im Bereich von -6 bis -7.1 oder knapp darum herum. Für dieses\n",
    "# Programm wird der Einfachheit halber der Wert -6 angenommen.\n",
    "speechComprehensible = signalNoiseRatio > -6\n",
    "\n",
    "print(f\"The signal-noise-ratio (rounded to 2 decimal places) is {round(signalNoiseRatio,2)} dB.\")\n",
    "print(f\"That means if your signal were speech, it would probably\", \n",
    "      \"still\" if speechComprehensible else \"not\", \"be comprehensible.\")"
   ]
  },
  {
   "cell_type": "markdown",
   "metadata": {},
   "source": [
    " "
   ]
  },
  {
   "cell_type": "code",
   "execution_count": null,
   "metadata": {
    "scrolled": true
   },
   "outputs": [],
   "source": [
    "# Signalleistung = SL, Rauschleistung = RL\n",
    "#-----------------------------------------------------------\n",
    "# SNR = 10 * log10(SL/RL)\n",
    "# 6.2 = 10 * log10(SL/RL)\n",
    "# 0.62 = log10(SL/RL)\n",
    "# 10^(0.62) = SL/RL\n",
    "# 10^(0.62) * RL = SL\n",
    "#-----------------------------------------------------------\n",
    "# The ratio is 1 : 10^(0.62), or with a rounded value for the power approximately 1 : 4.168"
   ]
  }
 ],
 "metadata": {
  "kernelspec": {
   "display_name": "Python 3",
   "language": "python",
   "name": "python3"
  },
  "language_info": {
   "codemirror_mode": {
    "name": "ipython",
    "version": 3
   },
   "file_extension": ".py",
   "mimetype": "text/x-python",
   "name": "python",
   "nbconvert_exporter": "python",
   "pygments_lexer": "ipython3",
   "version": "3.7.1"
  }
 },
 "nbformat": 4,
 "nbformat_minor": 2
}

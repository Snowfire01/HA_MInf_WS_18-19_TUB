{
 "cells": [
  {
   "cell_type": "code",
   "execution_count": null,
   "metadata": {},
   "outputs": [],
   "source": [
    "%matplotlib inline\n",
    "%config InlineBackend.figure_format = 'retina'  \n",
    "\n",
    "from PIL import Image \n",
    "import numpy as np\n",
    "import matplotlib.pyplot as plt\n",
    "import os.path\n",
    "\n",
    "import Color_Splash as cs\n",
    "\n",
    "# Let user input a file path and load the file into memory with PIL if the path is valid\n",
    "source_img_path = input(\"Please enter the path to the image file (.jpg) you want to apply the filter to: \")\n",
    "\n",
    "while not (os.path.isfile(source_img_path) and source_img_path.endswith(\".jpg\")):    \n",
    "    if not os.path.isfile(source_img_path):\n",
    "        source_img_path = input(\"The path you specified is invalid. Please check your input and file location and enter a new path: \")\n",
    "    elif not source_img_path.endswith(\".jpg\"):\n",
    "        source_img_path = input(\"The specified file has an invalid format. It needs to be a .jpg-file! Please choose another:  \")\n",
    "\n",
    "image_file = Image.open(source_img_path) \n",
    "image_file.load() \n",
    "\n",
    "# Let user select the filter mode (with input validation)\n",
    "filter_mode = input(\"Please select one of the following filter modes: violet (v), blue (b), green (g), red-green(rg): \")\n",
    "\n",
    "while not filter_mode in [\"v\", \"b\", \"g\", \"rg\"]:\n",
    "       filter_mode = input(\"That's not a valid filter mode. Please choose one out of v, b, g and rg: \")\n",
    "        \n",
    "# Call the filter library and do the magic\n",
    "image_splash = cs.apply_color_splash(image_file, filter_mode)\n",
    "\n",
    "# Plot image\n",
    "plt.axis('off')\n",
    "plt.imshow(image_splash)\n"
   ]
  }
 ],
 "metadata": {
  "kernelspec": {
   "display_name": "Python 3",
   "language": "python",
   "name": "python3"
  },
  "language_info": {
   "codemirror_mode": {
    "name": "ipython",
    "version": 3
   },
   "file_extension": ".py",
   "mimetype": "text/x-python",
   "name": "python",
   "nbconvert_exporter": "python",
   "pygments_lexer": "ipython3",
   "version": "3.7.1"
  }
 },
 "nbformat": 4,
 "nbformat_minor": 2
}

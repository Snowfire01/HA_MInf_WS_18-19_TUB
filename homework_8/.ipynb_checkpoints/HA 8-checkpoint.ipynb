{
 "cells": [
  {
   "cell_type": "code",
   "execution_count": null,
   "metadata": {},
   "outputs": [],
   "source": [
    "%matplotlib inline\n",
    "%config InlineBackend.figure_format = 'retina'     \n",
    "\n",
    "import matplotlib.pyplot as plt\n",
    "from PIL import Image \n",
    "import numpy as np\n",
    "import colorconversion as cc\n",
    "from copy import deepcopy\n",
    "\n",
    "# Load Image and get image data as numpy array\n",
    "image_file = Image.open(\"glasgow_clyde_sse.jpg\") \n",
    "image_file.load() \n",
    "image_data = np.asarray(image_file, dtype=np.uint8)\n",
    "(img_dim_y, img_dim_x, img_depth) = image_data.shape\n",
    "\n",
    "# Create neutral layer to stack with the isolated ycbcr values in order to get proper pixel arrays again\n",
    "neutralLayer = np.full((img_dim_y, img_dim_x), 128, dtype = np.uint8)\n",
    "\n",
    "# Convert original rgb image data into ycbcr image data\n",
    "ycbcr_image = cc.rgb_to_ycbcr(image_data)\n",
    "\n",
    "# Isolate the y, cb, and cr values from the respective other ones and save each in its on variable\n",
    "y_data = ycbcr_image[:, :, 0]\n",
    "cb_data = ycbcr_image[:, :, 1]\n",
    "cr_data = ycbcr_image[:, :, 2]\n",
    "\n",
    "# Stack the isolated y, cb and cr values with the neutral layer so that you get pixel arrays instead of single values\n",
    "y_image_data = np.stack([y_data, neutralLayer, neutralLayer], axis = 2)\n",
    "cb_image_data = np.stack([neutralLayer, cb_data, neutralLayer], axis = 2)\n",
    "cr_image_data = np.stack([neutralLayer, neutralLayer, cr_data], axis = 2)\n",
    "\n",
    "# Convert all the newly created pixel arrays back into rgb arrays so that they can be plotted\n",
    "y_rgb_image = cc.ycbcr_to_rgb(y_image_data)\n",
    "cb_rgb_image = cc.ycbcr_to_rgb(cb_image_data)\n",
    "cr_rgb_image = cc.ycbcr_to_rgb(cr_image_data)\n",
    "\n",
    "# Plot all the plots!\n",
    "plt.subplot(231)\n",
    "plt.imshow(image_data)\n",
    "plt.axis(\"off\")\n",
    "\n",
    "plt.subplot(232)\n",
    "plt.imshow(y_rgb_image)\n",
    "plt.axis(\"off\")\n",
    "\n",
    "plt.subplot(233)\n",
    "plt.imshow(cb_rgb_image)\n",
    "plt.axis(\"off\")\n",
    "\n",
    "plt.subplot(234)\n",
    "plt.imshow(cr_rgb_image)\n",
    "plt.axis(\"off\")"
   ]
  }
 ],
 "metadata": {
  "kernelspec": {
   "display_name": "Python 3",
   "language": "python",
   "name": "python3"
  },
  "language_info": {
   "codemirror_mode": {
    "name": "ipython",
    "version": 3
   },
   "file_extension": ".py",
   "mimetype": "text/x-python",
   "name": "python",
   "nbconvert_exporter": "python",
   "pygments_lexer": "ipython3",
   "version": "3.7.1"
  }
 },
 "nbformat": 4,
 "nbformat_minor": 2
}

{
 "cells": [
  {
   "cell_type": "code",
   "execution_count": null,
   "metadata": {},
   "outputs": [],
   "source": [
    "results = [];\n",
    "\n",
    "for x in range(0,12):\n",
    "    results.append(int(input(\"Ergebnis Prüfung %d: \" % (x+1))))\n",
    "\n",
    "print()\n",
    "\n",
    "total = 0;\n",
    "\n",
    "for result in results:\n",
    "    if result >= 25:\n",
    "        total += result\n",
    "\n",
    "# Ausgehend davon, dass bei der Notenvergabe die Punkte immer abgerundet werden (was wir nicht wissen können, \n",
    "# das Prinzip ist aber gleich)\n",
    "finalResult = int(total / (1200/15))\n",
    "\n",
    "print(\"Final result: %d points\" % finalResult)\n",
    "\n",
    "# Negative Bonuspunkte kann es nicht geben\n",
    "bonusPoints = int(finalResult - 5 if finalResult - 5 > 0 else 0)\n",
    "\n",
    "print(\"That's %d bonus points!\" % bonusPoints)"
   ]
  },
  {
   "cell_type": "code",
   "execution_count": null,
   "metadata": {},
   "outputs": [],
   "source": [
    "import numpy as np\n",
    "\n",
    "personen = np.matrix(\"100,175,210;90,160,150;200,50,100;120,0,310\")\n",
    "preise = np.matrix(\"0.0298;0.0390;0.0199\")\n",
    "\n",
    "ausgaben = np.dot(personen, preise)\n",
    "print(ausgaben)"
   ]
  }
 ],
 "metadata": {
  "kernelspec": {
   "display_name": "Python 3",
   "language": "python",
   "name": "python3"
  },
  "language_info": {
   "codemirror_mode": {
    "name": "ipython",
    "version": 3
   },
   "file_extension": ".py",
   "mimetype": "text/x-python",
   "name": "python",
   "nbconvert_exporter": "python",
   "pygments_lexer": "ipython3",
   "version": "3.7.1"
  }
 },
 "nbformat": 4,
 "nbformat_minor": 2
}

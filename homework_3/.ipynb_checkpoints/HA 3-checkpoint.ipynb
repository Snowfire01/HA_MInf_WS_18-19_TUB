{
 "cells": [
  {
   "cell_type": "code",
   "execution_count": null,
   "metadata": {},
   "outputs": [],
   "source": [
    "import math\n",
    "\n",
    "def getEntropy(dictionary):\n",
    "    retVal = 0\n",
    "\n",
    "    for i in dictionary:\n",
    "        xa = math.log2(1/dictionary[i])\n",
    "        pa = dictionary[i]\n",
    "        retVal += pa * xa\n",
    "    \n",
    "    return retVal\n",
    "\n",
    "dict = {\n",
    "    \"dreieck\": 0.2,\n",
    "    \"summe\": 0.125,\n",
    "    \"omega\": 0.2,\n",
    "    \"k\": 0.345,\n",
    "    \"phi\": 0.13\n",
    "}\n",
    "\n",
    "print(f\"Die Entropie der Zeichen ist: {getEntropy(dict)}\")"
   ]
  },
  {
   "cell_type": "code",
   "execution_count": null,
   "metadata": {},
   "outputs": [],
   "source": [
    "# Beim Huffman-Code sind keine Trennzeichen nötig, da kein kein Codewort mit dem Präfix eines anderen Codewortes \n",
    "# beginnen kann. Codiert man bspw. mit Nullen und Einsen, so enthält kein Codewort mehr als eine Null. Das Wort\n",
    "# mit der höchsten Wahrscheinlichkeit besteht aus einer Null und dasjenige mit der geringsten Wahrscheinlichkeit\n",
    "# besteht als einziges nur aus Einsen. Alle anderen beginnen mit Einsen und enden mit einer Null. Die Null markiert\n",
    "# somit das Ende eines Codewortes. Das wahrscheinlichste Codewort erkennt man daran, dass es als einziges zulässt,\n",
    "# dass zwei Nullen nacheinander stehen. Das unwahrscheinlichste Codewort erkennt man daran, dass die maximale Länge\n",
    "# eines Codeworts mit der Anzahl an aufeinander folgenden Einsen überchritten wird, ohne, dass eine Null dazwischen\n",
    "# stand. Somit kann man immer Wörter voneinander trennen, ohne gesonderte Trennzeichen einführen zu müssen.\n",
    "# Der verwendete Codebaum muss zur Dekodierung deshalb vorliegen."
   ]
  },
  {
   "cell_type": "code",
   "execution_count": null,
   "metadata": {},
   "outputs": [],
   "source": [
    "# 3.1:\n",
    "# Menschliche Sprache hat einen maximalen Frequenzbereich zwischen 3.5kHz und 4 kHz. Das Abtasttheorem besagt, dass für eine\n",
    "# genaue Rekonstruktion ein Signal mindestens mit dem doppelten seiner maximalen Frequenz abgetastet werden muss. \n",
    "# Bei einem Telefonat muss die Abtastrate also 2 * 4kHz (also 8 kHz) betragen. \n",
    "\n",
    "# 3.2:\n",
    "# Da der Mensch Töne bis 20 kHz hört, muss nach dem Abtasttheorem zur perfekten Aufnahme von Musik die Abtastrate\n",
    "# mindestens 40 kHz betragen (2 * 20kHz).\n",
    "# Üblicherweise gibt es einen Tiefpassfilter, der weitere Störungen durch zu hohe Frequenzen vermeidet indem er sie dämpft.\n",
    "# Da dies in der Praxis nicht immer ideal funktioniert, wird ein Übergangsbereich von 2.05 kHz bzw. 4 kHz ausgewiesen, der \n",
    "# bei der Berechnung der Abtastrate auf die maximale Hörfrequenz des Menschen angerechnet werden muss. Somit ergibt sich \n",
    "# die Abtastrate von 44.1 kHz aus der Rechnung (20kHz + 2.05kHz) * 2 und die Abtastrate von 48 kHz aus aus der Rechnung \n",
    "# (20kHz + 4kHz) * 2."
   ]
  }
 ],
 "metadata": {
  "kernelspec": {
   "display_name": "Python 3",
   "language": "python",
   "name": "python3"
  },
  "language_info": {
   "codemirror_mode": {
    "name": "ipython",
    "version": 3
   },
   "file_extension": ".py",
   "mimetype": "text/x-python",
   "name": "python",
   "nbconvert_exporter": "python",
   "pygments_lexer": "ipython3",
   "version": "3.7.1"
  }
 },
 "nbformat": 4,
 "nbformat_minor": 2
}

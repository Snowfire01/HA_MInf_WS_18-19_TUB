{
 "cells": [
  {
   "cell_type": "code",
   "execution_count": null,
   "metadata": {},
   "outputs": [],
   "source": [
    "resolution = int(input(\"Please enter the audio resolution in bit: \"))\n",
    "samplingRate = int(input(\"Please enter the sampling rate in Hz: \"))\n",
    "channelCount = int(input(\"Please enter the number of audio channels: \"))\n",
    "length = int(input(\"Please enter the length of the audio file in seconds: \"))\n",
    "\n",
    "# resolution tells us, how many bits we can use per smallest encoded unit\n",
    "# sampling rate tells us, how many of these we can read in one second of audio\n",
    "# channel count tells us, how many audio channels will play the and all need their own data stream\n",
    "# Now we have the storage size of one second of audio ([samRate] times per second we save [res] bits [chCount] times)\n",
    "# If we want the storage size of the whole thing we just need to multiply the result with the total seconds of the audio\n",
    "# We now have the size in bit and divide by 8 (Bytes) * 1024 (KibiBytes) * 1024 (MibiBytes) so that we get the right number\n",
    "fileSize = (resolution * samplingRate * channelCount * length) / (8 * 1024 * 1024)\n",
    "\n",
    "print(f\"\\nThe .wav file will have a size of about {round(fileSize, 3)} MiB\")\n",
    "\n",
    "# In practice the file size will be larger than this, because there's file metadata associated to it.\n",
    "# This includes a file name, artist or album information, possibly an album cover and all sorts of useful additional info"
   ]
  },
  {
   "cell_type": "code",
   "execution_count": null,
   "metadata": {},
   "outputs": [],
   "source": [
    "morseDict = {\n",
    "    'a': '.-', 'b': '-...', 'c': '-.-.', \n",
    "    'd': '-..', 'e': '.', 'f': '..-.',\n",
    "    'g': '--.', 'h': '....', 'i': '..',\n",
    "    'j': '.---','k': '-.-', 'l': '.-..',\n",
    "    'm': '--', 'n': '-.', 'o': '---',\n",
    "    'p': '.--.', 'q': '--.-', 'r': '.-.',\n",
    "    's': '...', 't': '-', 'r': '..-',\n",
    "    'v': '...-', 'w': '.--', 'x': '-..-',\n",
    "    'y': '-.--', 'z': '--..'\n",
    "}\n",
    "\n",
    "sentence = input(\"Please input your sentence here: \").lower()\n",
    "print()\n",
    "output = sentence.replace(' ', '/ ')\n",
    "\n",
    "for morseCode in morseDict:\n",
    "    if morseCode in sentence:\n",
    "        output = output.replace(morseCode, f\"{morseDict[morseCode]} \").strip()\n",
    "        \n",
    "print(f\"The sentence \\\"{sentence}\\\" is \\\"{output}\\\" in morse code.\")"
   ]
  }
 ],
 "metadata": {
  "kernelspec": {
   "display_name": "Python 3",
   "language": "python",
   "name": "python3"
  },
  "language_info": {
   "codemirror_mode": {
    "name": "ipython",
    "version": 3
   },
   "file_extension": ".py",
   "mimetype": "text/x-python",
   "name": "python",
   "nbconvert_exporter": "python",
   "pygments_lexer": "ipython3",
   "version": "3.7.1"
  }
 },
 "nbformat": 4,
 "nbformat_minor": 2
}

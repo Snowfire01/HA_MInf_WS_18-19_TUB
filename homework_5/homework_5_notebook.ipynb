{
 "cells": [
  {
   "cell_type": "code",
   "execution_count": null,
   "metadata": {},
   "outputs": [],
   "source": [
    "import math as math\n",
    "import numpy as numpy\n",
    "\n",
    "x = input(\"Gib die dB-Anzahl des ersten Summandes an: \")\n",
    "y = input(\"Gib die dB-Anzahl des zweiten Summandes an: \")\n",
    "dB1 = int(x)\n",
    "dB2 = int(y)\n",
    "\n",
    "sum = 10 * math.log(math.pow(10,(dB1/10))+math.pow(10,(dB2/10)), 10)\n",
    "\n",
    "print(\"Die Summe aus %d dB und %d dB beträgt %0.3f dB.\" % (dB1, dB2 ,sum))"
   ]
  },
  {
   "cell_type": "code",
   "execution_count": null,
   "metadata": {},
   "outputs": [],
   "source": [
    "#Hierbei wird das Abtasttheorem verwendet. Der Sinn eines Tiefpassfilter besteht darin, dass dieser verhindert das Aliasing \n",
    "#zustande kommt. Dabei beschränkt man sich auf eine geeignete Bandbreite,\n",
    "#welche verhindert, dass bei der Abtastung das Originalsignal verfälscht wird."
   ]
  },
  {
   "cell_type": "code",
   "execution_count": null,
   "metadata": {},
   "outputs": [],
   "source": [
    "%matplotlib inline\n",
    "\n",
    "from scipy.io import wavfile\n",
    "from scipy.fftpack import fft, fftfreq\n",
    "import matplotlib.pyplot as plt\n",
    "import math as math\n",
    "import numpy as numpy\n",
    "\n",
    "wav_filename = \"speech_clean.wav\"\n",
    "\n",
    "# read the WAV file\n",
    "samplerate, data = wavfile.read(wav_filename)\n",
    "\n",
    "# get the total number of samples\n",
    "total_samples = len(data)\n",
    "\n",
    "# half of the array is enough; the symmetrical negative counterpart can be omitted\n",
    "lmt = int((total_samples / 2) - 1)\n",
    "\n",
    "# compute the fast fourier transformation and convert the imaginary values into abolute values\n",
    "fft_abs = abs(fft(data))        \n",
    "\n",
    "# compute the frequency bin centers for the plot's correct axis\n",
    "freqs = fftfreq(totalnum_samples, 1 / samplerate)\n",
    "\n",
    "l = 300/freqs[1]\n",
    "x = math.ceil(l)\n",
    "\n",
    "\n",
    "for ATM in range(0, x):\n",
    "    fft_abs[ATM] = 0\n",
    "    \n",
    "y = math.ceil(3400/freqs[1])\n",
    "z = math.ceil(8000/freqs[1])\n",
    "\n",
    "# for ATM in range(y, z):\n",
    "#     fft_abs[ATM] = 0\n",
    "    \n",
    "    \n",
    "# plot the frequencies\n",
    "plt.plot(frequency[0:lmt], fft_abs[0:lmt])\n",
    "plt.title(\"Frequenzspektrum der Datei: %s\" % wav_filename)\n",
    "plt.xlabel('Frequenz in Hz')\n",
    "plt.ylabel('Amplitude')\n",
    "# plt.xscale('log') # use a logarithmic x axis\n",
    "plt.show()"
   ]
  }
 ],
 "metadata": {
  "kernelspec": {
   "display_name": "Python 3",
   "language": "python",
   "name": "python3"
  },
  "language_info": {
   "codemirror_mode": {
    "name": "ipython",
    "version": 3
   },
   "file_extension": ".py",
   "mimetype": "text/x-python",
   "name": "python",
   "nbconvert_exporter": "python",
   "pygments_lexer": "ipython3",
   "version": "3.7.1"
  }
 },
 "nbformat": 4,
 "nbformat_minor": 2
}
